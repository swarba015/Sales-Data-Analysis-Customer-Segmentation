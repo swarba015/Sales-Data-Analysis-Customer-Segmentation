{
 "cells": [
  {
   "cell_type": "code",
   "execution_count": 2,
   "metadata": {},
   "outputs": [
    {
     "name": "stdout",
     "output_type": "stream",
     "text": [
      "Requirement already satisfied: fpdf in c:\\users\\nuzha\\appdata\\local\\packages\\pythonsoftwarefoundation.python.3.11_qbz5n2kfra8p0\\localcache\\local-packages\\python311\\site-packages (1.7.2)\n"
     ]
    },
    {
     "name": "stderr",
     "output_type": "stream",
     "text": [
      "\n",
      "[notice] A new release of pip is available: 24.0 -> 24.2\n",
      "[notice] To update, run: C:\\Users\\nuzha\\AppData\\Local\\Microsoft\\WindowsApps\\PythonSoftwareFoundation.Python.3.11_qbz5n2kfra8p0\\python.exe -m pip install --upgrade pip\n"
     ]
    },
    {
     "name": "stdout",
     "output_type": "stream",
     "text": [
      "Requirement already satisfied: plotly-express in c:\\users\\nuzha\\appdata\\local\\packages\\pythonsoftwarefoundation.python.3.11_qbz5n2kfra8p0\\localcache\\local-packages\\python311\\site-packages (0.4.1)\n",
      "Requirement already satisfied: pandas>=0.20.0 in c:\\users\\nuzha\\appdata\\local\\packages\\pythonsoftwarefoundation.python.3.11_qbz5n2kfra8p0\\localcache\\local-packages\\python311\\site-packages (from plotly-express) (2.1.4)\n",
      "Requirement already satisfied: plotly>=4.1.0 in c:\\users\\nuzha\\appdata\\local\\packages\\pythonsoftwarefoundation.python.3.11_qbz5n2kfra8p0\\localcache\\local-packages\\python311\\site-packages (from plotly-express) (5.18.0)\n",
      "Requirement already satisfied: statsmodels>=0.9.0 in c:\\users\\nuzha\\appdata\\local\\packages\\pythonsoftwarefoundation.python.3.11_qbz5n2kfra8p0\\localcache\\local-packages\\python311\\site-packages (from plotly-express) (0.14.0)\n",
      "Requirement already satisfied: scipy>=0.18 in c:\\users\\nuzha\\appdata\\local\\packages\\pythonsoftwarefoundation.python.3.11_qbz5n2kfra8p0\\localcache\\local-packages\\python311\\site-packages (from plotly-express) (1.11.4)\n",
      "Requirement already satisfied: patsy>=0.5 in c:\\users\\nuzha\\appdata\\local\\packages\\pythonsoftwarefoundation.python.3.11_qbz5n2kfra8p0\\localcache\\local-packages\\python311\\site-packages (from plotly-express) (0.5.4)\n",
      "Requirement already satisfied: numpy>=1.11 in c:\\users\\nuzha\\appdata\\local\\packages\\pythonsoftwarefoundation.python.3.11_qbz5n2kfra8p0\\localcache\\local-packages\\python311\\site-packages (from plotly-express) (1.26.2)\n",
      "Requirement already satisfied: python-dateutil>=2.8.2 in c:\\users\\nuzha\\appdata\\local\\packages\\pythonsoftwarefoundation.python.3.11_qbz5n2kfra8p0\\localcache\\local-packages\\python311\\site-packages (from pandas>=0.20.0->plotly-express) (2.8.2)\n",
      "Requirement already satisfied: pytz>=2020.1 in c:\\users\\nuzha\\appdata\\local\\packages\\pythonsoftwarefoundation.python.3.11_qbz5n2kfra8p0\\localcache\\local-packages\\python311\\site-packages (from pandas>=0.20.0->plotly-express) (2023.3.post1)\n",
      "Requirement already satisfied: tzdata>=2022.1 in c:\\users\\nuzha\\appdata\\local\\packages\\pythonsoftwarefoundation.python.3.11_qbz5n2kfra8p0\\localcache\\local-packages\\python311\\site-packages (from pandas>=0.20.0->plotly-express) (2023.3)\n",
      "Requirement already satisfied: six in c:\\users\\nuzha\\appdata\\local\\packages\\pythonsoftwarefoundation.python.3.11_qbz5n2kfra8p0\\localcache\\local-packages\\python311\\site-packages (from patsy>=0.5->plotly-express) (1.16.0)\n",
      "Requirement already satisfied: tenacity>=6.2.0 in c:\\users\\nuzha\\appdata\\local\\packages\\pythonsoftwarefoundation.python.3.11_qbz5n2kfra8p0\\localcache\\local-packages\\python311\\site-packages (from plotly>=4.1.0->plotly-express) (8.2.3)\n",
      "Requirement already satisfied: packaging in c:\\users\\nuzha\\appdata\\local\\packages\\pythonsoftwarefoundation.python.3.11_qbz5n2kfra8p0\\localcache\\local-packages\\python311\\site-packages (from plotly>=4.1.0->plotly-express) (23.2)\n"
     ]
    },
    {
     "name": "stderr",
     "output_type": "stream",
     "text": [
      "\n",
      "[notice] A new release of pip is available: 24.0 -> 24.2\n",
      "[notice] To update, run: C:\\Users\\nuzha\\AppData\\Local\\Microsoft\\WindowsApps\\PythonSoftwareFoundation.Python.3.11_qbz5n2kfra8p0\\python.exe -m pip install --upgrade pip\n"
     ]
    },
    {
     "name": "stdout",
     "output_type": "stream",
     "text": [
      "Collecting kaleido==0.1.0.post1\n",
      "  Downloading kaleido-0.1.0.post1-py2.py3-none-win_amd64.whl.metadata (15 kB)\n",
      "Downloading kaleido-0.1.0.post1-py2.py3-none-win_amd64.whl (56.0 MB)\n",
      "   ---------------------------------------- 0.0/56.0 MB ? eta -:--:--\n",
      "   ---------------------------------------- 0.0/56.0 MB 660.6 kB/s eta 0:01:25\n",
      "   ---------------------------------------- 0.1/56.0 MB 825.8 kB/s eta 0:01:08\n",
      "   ---------------------------------------- 0.2/56.0 MB 1.5 MB/s eta 0:00:38\n",
      "   ---------------------------------------- 0.4/56.0 MB 3.1 MB/s eta 0:00:19\n",
      "    --------------------------------------- 1.2/56.0 MB 6.1 MB/s eta 0:00:10\n",
      "   - -------------------------------------- 1.9/56.0 MB 8.1 MB/s eta 0:00:07\n",
      "   - -------------------------------------- 2.7/56.0 MB 9.5 MB/s eta 0:00:06\n",
      "   -- ------------------------------------- 3.3/56.0 MB 10.6 MB/s eta 0:00:05\n",
      "   -- ------------------------------------- 4.1/56.0 MB 11.5 MB/s eta 0:00:05\n",
      "   --- ------------------------------------ 5.0/56.0 MB 11.9 MB/s eta 0:00:05\n",
      "   ---- ----------------------------------- 5.6/56.0 MB 12.4 MB/s eta 0:00:05\n",
      "   ---- ----------------------------------- 6.4/56.0 MB 12.8 MB/s eta 0:00:04\n",
      "   ----- ---------------------------------- 7.3/56.0 MB 13.4 MB/s eta 0:00:04\n",
      "   ----- ---------------------------------- 7.9/56.0 MB 13.7 MB/s eta 0:00:04\n",
      "   ------ --------------------------------- 8.7/56.0 MB 14.0 MB/s eta 0:00:04\n",
      "   ------ --------------------------------- 9.6/56.0 MB 14.0 MB/s eta 0:00:04\n",
      "   ------- -------------------------------- 10.5/56.0 MB 16.8 MB/s eta 0:00:03\n",
      "   ------- -------------------------------- 11.1/56.0 MB 17.3 MB/s eta 0:00:03\n",
      "   -------- ------------------------------- 12.0/56.0 MB 17.2 MB/s eta 0:00:03\n",
      "   --------- ------------------------------ 12.8/56.0 MB 17.7 MB/s eta 0:00:03\n",
      "   --------- ------------------------------ 13.4/56.0 MB 17.2 MB/s eta 0:00:03\n",
      "   ---------- ----------------------------- 14.3/56.0 MB 17.2 MB/s eta 0:00:03\n",
      "   ---------- ----------------------------- 15.1/56.0 MB 17.2 MB/s eta 0:00:03\n",
      "   ----------- ---------------------------- 16.0/56.0 MB 17.7 MB/s eta 0:00:03\n",
      "   ----------- ---------------------------- 16.6/56.0 MB 17.7 MB/s eta 0:00:03\n",
      "   ------------ --------------------------- 17.4/56.0 MB 17.7 MB/s eta 0:00:03\n",
      "   ------------- -------------------------- 18.3/56.0 MB 17.2 MB/s eta 0:00:03\n",
      "   ------------- -------------------------- 19.2/56.0 MB 17.2 MB/s eta 0:00:03\n",
      "   -------------- ------------------------- 20.1/56.0 MB 17.2 MB/s eta 0:00:03\n",
      "   -------------- ------------------------- 20.9/56.0 MB 17.2 MB/s eta 0:00:03\n",
      "   --------------- ------------------------ 21.8/56.0 MB 17.7 MB/s eta 0:00:02\n",
      "   ---------------- ----------------------- 22.7/56.0 MB 17.2 MB/s eta 0:00:02\n",
      "   ---------------- ----------------------- 23.5/56.0 MB 17.2 MB/s eta 0:00:02\n",
      "   ----------------- ---------------------- 24.1/56.0 MB 17.3 MB/s eta 0:00:02\n",
      "   ----------------- ---------------------- 24.9/56.0 MB 17.2 MB/s eta 0:00:02\n",
      "   ------------------ --------------------- 25.7/56.0 MB 17.2 MB/s eta 0:00:02\n",
      "   ------------------ --------------------- 26.4/56.0 MB 17.7 MB/s eta 0:00:02\n",
      "   ------------------- -------------------- 27.2/56.0 MB 17.2 MB/s eta 0:00:02\n",
      "   ------------------- -------------------- 27.8/56.0 MB 17.2 MB/s eta 0:00:02\n",
      "   -------------------- ------------------- 28.6/56.0 MB 17.2 MB/s eta 0:00:02\n",
      "   --------------------- ------------------ 29.5/56.0 MB 17.2 MB/s eta 0:00:02\n",
      "   --------------------- ------------------ 30.1/56.0 MB 17.2 MB/s eta 0:00:02\n",
      "   ---------------------- ----------------- 30.9/56.0 MB 17.2 MB/s eta 0:00:02\n",
      "   ---------------------- ----------------- 31.5/56.0 MB 17.2 MB/s eta 0:00:02\n",
      "   ----------------------- ---------------- 32.3/56.0 MB 16.8 MB/s eta 0:00:02\n",
      "   ----------------------- ---------------- 33.2/56.0 MB 17.2 MB/s eta 0:00:02\n",
      "   ------------------------ --------------- 34.0/56.0 MB 17.3 MB/s eta 0:00:02\n",
      "   ------------------------ --------------- 34.9/56.0 MB 17.3 MB/s eta 0:00:02\n",
      "   ------------------------- -------------- 35.7/56.0 MB 16.8 MB/s eta 0:00:02\n",
      "   ------------------------- -------------- 36.3/56.0 MB 16.8 MB/s eta 0:00:02\n",
      "   -------------------------- ------------- 37.2/56.0 MB 17.2 MB/s eta 0:00:02\n",
      "   --------------------------- ------------ 38.0/56.0 MB 17.2 MB/s eta 0:00:02\n",
      "   --------------------------- ------------ 38.9/56.0 MB 17.2 MB/s eta 0:00:01\n",
      "   ---------------------------- ----------- 39.5/56.0 MB 16.8 MB/s eta 0:00:01\n",
      "   ---------------------------- ----------- 40.3/56.0 MB 17.3 MB/s eta 0:00:01\n",
      "   ----------------------------- ---------- 41.1/56.0 MB 17.3 MB/s eta 0:00:01\n",
      "   ----------------------------- ---------- 41.8/56.0 MB 17.2 MB/s eta 0:00:01\n",
      "   ------------------------------ --------- 42.7/56.0 MB 17.3 MB/s eta 0:00:01\n",
      "   ------------------------------ --------- 43.2/56.0 MB 17.2 MB/s eta 0:00:01\n",
      "   ------------------------------- -------- 44.1/56.0 MB 17.2 MB/s eta 0:00:01\n",
      "   -------------------------------- ------- 44.9/56.0 MB 17.2 MB/s eta 0:00:01\n",
      "   -------------------------------- ------- 45.8/56.0 MB 17.2 MB/s eta 0:00:01\n",
      "   --------------------------------- ------ 46.4/56.0 MB 17.2 MB/s eta 0:00:01\n",
      "   --------------------------------- ------ 47.2/56.0 MB 17.2 MB/s eta 0:00:01\n",
      "   ---------------------------------- ----- 48.1/56.0 MB 17.2 MB/s eta 0:00:01\n",
      "   ---------------------------------- ----- 48.9/56.0 MB 17.3 MB/s eta 0:00:01\n",
      "   ----------------------------------- ---- 49.8/56.0 MB 17.3 MB/s eta 0:00:01\n",
      "   ------------------------------------ --- 50.5/56.0 MB 17.2 MB/s eta 0:00:01\n",
      "   ------------------------------------ --- 51.2/56.0 MB 17.3 MB/s eta 0:00:01\n",
      "   ------------------------------------- -- 52.0/56.0 MB 17.3 MB/s eta 0:00:01\n",
      "   ------------------------------------- -- 52.8/56.0 MB 16.8 MB/s eta 0:00:01\n",
      "   -------------------------------------- - 53.7/56.0 MB 16.8 MB/s eta 0:00:01\n",
      "   -------------------------------------- - 54.5/56.0 MB 16.8 MB/s eta 0:00:01\n",
      "   ---------------------------------------  55.3/56.0 MB 16.8 MB/s eta 0:00:01\n",
      "   ---------------------------------------  56.0/56.0 MB 16.8 MB/s eta 0:00:01\n",
      "   ---------------------------------------  56.0/56.0 MB 16.8 MB/s eta 0:00:01\n",
      "   ---------------------------------------  56.0/56.0 MB 16.8 MB/s eta 0:00:01\n",
      "   ---------------------------------------- 56.0/56.0 MB 14.5 MB/s eta 0:00:00\n",
      "Installing collected packages: kaleido\n",
      "  Attempting uninstall: kaleido\n",
      "    Found existing installation: kaleido 0.2.1\n",
      "    Uninstalling kaleido-0.2.1:\n",
      "      Successfully uninstalled kaleido-0.2.1\n",
      "Successfully installed kaleido-0.1.0.post1\n"
     ]
    },
    {
     "name": "stderr",
     "output_type": "stream",
     "text": [
      "\n",
      "[notice] A new release of pip is available: 24.0 -> 24.2\n",
      "[notice] To update, run: C:\\Users\\nuzha\\AppData\\Local\\Microsoft\\WindowsApps\\PythonSoftwareFoundation.Python.3.11_qbz5n2kfra8p0\\python.exe -m pip install --upgrade pip\n"
     ]
    }
   ],
   "source": [
    "import sys\n",
    "!pip install fpdf \n",
    "!pip install plotly-express\n",
    "!pip install kaleido==0.1.0.post1"
   ]
  },
  {
   "cell_type": "markdown",
   "metadata": {},
   "source": [
    "## **Define paths and chart style**\n"
   ]
  },
  {
   "cell_type": "code",
   "execution_count": 3,
   "metadata": {},
   "outputs": [],
   "source": [
    "#Installing Libraries\n",
    "from datetime import date\n",
    "from pathlib import Path\n",
    "import sqlite3\n",
    "\n",
    "import pandas as pd\n",
    "import plotly.express as px\n",
    "from fpdf import FPDF\n"
   ]
  },
  {
   "cell_type": "code",
   "execution_count": 4,
   "metadata": {},
   "outputs": [],
   "source": [
    "plotly_template = \"presentation\""
   ]
  },
  {
   "cell_type": "code",
   "execution_count": 5,
   "metadata": {},
   "outputs": [],
   "source": [
    "# Define the paths\n",
    "current_dir = Path(__file__).parent if \"__file__\" in locals() else Path.cwd()\n",
    "database_path = current_dir / \"nike_sales.db\"\n",
    "output_dir = current_dir / \"output\"\n",
    "\n",
    "# Create the output directory and its parent directory if they do not exist\n",
    "output_dir.mkdir(parents=True, exist_ok=True)"
   ]
  },
  {
   "cell_type": "markdown",
   "metadata": {},
   "source": [
    "## **Total Sales by Month**"
   ]
  },
  {
   "cell_type": "code",
   "execution_count": 6,
   "metadata": {},
   "outputs": [],
   "source": [
    "\n",
    "# Create a connection to the database\n",
    "conn = sqlite3.connect(database_path)"
   ]
  },
  {
   "cell_type": "markdown",
   "metadata": {},
   "source": []
  },
  {
   "cell_type": "code",
   "execution_count": 7,
   "metadata": {},
   "outputs": [
    {
     "data": {
      "text/html": [
       "<div>\n",
       "<style scoped>\n",
       "    .dataframe tbody tr th:only-of-type {\n",
       "        vertical-align: middle;\n",
       "    }\n",
       "\n",
       "    .dataframe tbody tr th {\n",
       "        vertical-align: top;\n",
       "    }\n",
       "\n",
       "    .dataframe thead th {\n",
       "        text-align: right;\n",
       "    }\n",
       "</style>\n",
       "<table border=\"1\" class=\"dataframe\">\n",
       "  <thead>\n",
       "    <tr style=\"text-align: right;\">\n",
       "      <th></th>\n",
       "      <th>sale_date</th>\n",
       "      <th>total_sales</th>\n",
       "    </tr>\n",
       "  </thead>\n",
       "  <tbody>\n",
       "    <tr>\n",
       "      <th>0</th>\n",
       "      <td>2023-01-01</td>\n",
       "      <td>1590</td>\n",
       "    </tr>\n",
       "    <tr>\n",
       "      <th>1</th>\n",
       "      <td>2023-01-02</td>\n",
       "      <td>2360</td>\n",
       "    </tr>\n",
       "    <tr>\n",
       "      <th>2</th>\n",
       "      <td>2023-01-03</td>\n",
       "      <td>1690</td>\n",
       "    </tr>\n",
       "    <tr>\n",
       "      <th>3</th>\n",
       "      <td>2023-01-04</td>\n",
       "      <td>3220</td>\n",
       "    </tr>\n",
       "    <tr>\n",
       "      <th>4</th>\n",
       "      <td>2023-01-05</td>\n",
       "      <td>2000</td>\n",
       "    </tr>\n",
       "  </tbody>\n",
       "</table>\n",
       "</div>"
      ],
      "text/plain": [
       "    sale_date  total_sales\n",
       "0  2023-01-01         1590\n",
       "1  2023-01-02         2360\n",
       "2  2023-01-03         1690\n",
       "3  2023-01-04         3220\n",
       "4  2023-01-05         2000"
      ]
     },
     "execution_count": 7,
     "metadata": {},
     "output_type": "execute_result"
    }
   ],
   "source": [
    "# Execute the query and load results into a Pandas DataFrame\n",
    "query = '''\n",
    "SELECT sale_date, SUM(total_price) as total_sales\n",
    "FROM sales\n",
    "GROUP BY sale_date\n",
    "ORDER BY sale_date ASC\n",
    "\n",
    "'''\n",
    "\n",
    "df = pd.read_sql(query, conn)\n",
    "df.head()"
   ]
  },
  {
   "cell_type": "code",
   "execution_count": 8,
   "metadata": {},
   "outputs": [
    {
     "name": "stdout",
     "output_type": "stream",
     "text": [
      "<class 'pandas.core.frame.DataFrame'>\n",
      "RangeIndex: 341 entries, 0 to 340\n",
      "Data columns (total 2 columns):\n",
      " #   Column       Non-Null Count  Dtype \n",
      "---  ------       --------------  ----- \n",
      " 0   sale_date    341 non-null    object\n",
      " 1   total_sales  341 non-null    int64 \n",
      "dtypes: int64(1), object(1)\n",
      "memory usage: 5.5+ KB\n"
     ]
    }
   ],
   "source": [
    "\n",
    "# Check the data types\n",
    "df.info()"
   ]
  },
  {
   "cell_type": "code",
   "execution_count": 9,
   "metadata": {},
   "outputs": [
    {
     "name": "stdout",
     "output_type": "stream",
     "text": [
      "<class 'pandas.core.frame.DataFrame'>\n",
      "RangeIndex: 341 entries, 0 to 340\n",
      "Data columns (total 2 columns):\n",
      " #   Column       Non-Null Count  Dtype         \n",
      "---  ------       --------------  -----         \n",
      " 0   sale_date    341 non-null    datetime64[ns]\n",
      " 1   total_sales  341 non-null    int64         \n",
      "dtypes: datetime64[ns](1), int64(1)\n",
      "memory usage: 5.5 KB\n"
     ]
    }
   ],
   "source": [
    "#converts sale_date to datetime\n",
    "df['sale_date'] = pd.to_datetime(df['sale_date'])\n",
    "df.info()"
   ]
  },
  {
   "cell_type": "code",
   "execution_count": 10,
   "metadata": {},
   "outputs": [
    {
     "data": {
      "text/html": [
       "<div>\n",
       "<style scoped>\n",
       "    .dataframe tbody tr th:only-of-type {\n",
       "        vertical-align: middle;\n",
       "    }\n",
       "\n",
       "    .dataframe tbody tr th {\n",
       "        vertical-align: top;\n",
       "    }\n",
       "\n",
       "    .dataframe thead th {\n",
       "        text-align: right;\n",
       "    }\n",
       "</style>\n",
       "<table border=\"1\" class=\"dataframe\">\n",
       "  <thead>\n",
       "    <tr style=\"text-align: right;\">\n",
       "      <th></th>\n",
       "      <th>total_sales</th>\n",
       "    </tr>\n",
       "    <tr>\n",
       "      <th>sale_date</th>\n",
       "      <th></th>\n",
       "    </tr>\n",
       "  </thead>\n",
       "  <tbody>\n",
       "    <tr>\n",
       "      <th>2023-01-01</th>\n",
       "      <td>1590</td>\n",
       "    </tr>\n",
       "    <tr>\n",
       "      <th>2023-01-02</th>\n",
       "      <td>2360</td>\n",
       "    </tr>\n",
       "    <tr>\n",
       "      <th>2023-01-03</th>\n",
       "      <td>1690</td>\n",
       "    </tr>\n",
       "    <tr>\n",
       "      <th>2023-01-04</th>\n",
       "      <td>3220</td>\n",
       "    </tr>\n",
       "    <tr>\n",
       "      <th>2023-01-05</th>\n",
       "      <td>2000</td>\n",
       "    </tr>\n",
       "  </tbody>\n",
       "</table>\n",
       "</div>"
      ],
      "text/plain": [
       "            total_sales\n",
       "sale_date              \n",
       "2023-01-01         1590\n",
       "2023-01-02         2360\n",
       "2023-01-03         1690\n",
       "2023-01-04         3220\n",
       "2023-01-05         2000"
      ]
     },
     "execution_count": 10,
     "metadata": {},
     "output_type": "execute_result"
    }
   ],
   "source": [
    "#set the date sale date column as the index\n",
    "df.set_index('sale_date', inplace=True)\n",
    "df.head()"
   ]
  },
  {
   "cell_type": "code",
   "execution_count": 11,
   "metadata": {},
   "outputs": [
    {
     "data": {
      "text/html": [
       "<div>\n",
       "<style scoped>\n",
       "    .dataframe tbody tr th:only-of-type {\n",
       "        vertical-align: middle;\n",
       "    }\n",
       "\n",
       "    .dataframe tbody tr th {\n",
       "        vertical-align: top;\n",
       "    }\n",
       "\n",
       "    .dataframe thead th {\n",
       "        text-align: right;\n",
       "    }\n",
       "</style>\n",
       "<table border=\"1\" class=\"dataframe\">\n",
       "  <thead>\n",
       "    <tr style=\"text-align: right;\">\n",
       "      <th></th>\n",
       "      <th>total_sales</th>\n",
       "    </tr>\n",
       "    <tr>\n",
       "      <th>sale_date</th>\n",
       "      <th></th>\n",
       "    </tr>\n",
       "  </thead>\n",
       "  <tbody>\n",
       "    <tr>\n",
       "      <th>2023-01-31</th>\n",
       "      <td>58150</td>\n",
       "    </tr>\n",
       "    <tr>\n",
       "      <th>2023-02-28</th>\n",
       "      <td>54490</td>\n",
       "    </tr>\n",
       "    <tr>\n",
       "      <th>2023-03-31</th>\n",
       "      <td>75310</td>\n",
       "    </tr>\n",
       "    <tr>\n",
       "      <th>2023-04-30</th>\n",
       "      <td>50560</td>\n",
       "    </tr>\n",
       "    <tr>\n",
       "      <th>2023-05-31</th>\n",
       "      <td>59110</td>\n",
       "    </tr>\n",
       "  </tbody>\n",
       "</table>\n",
       "</div>"
      ],
      "text/plain": [
       "            total_sales\n",
       "sale_date              \n",
       "2023-01-31        58150\n",
       "2023-02-28        54490\n",
       "2023-03-31        75310\n",
       "2023-04-30        50560\n",
       "2023-05-31        59110"
      ]
     },
     "execution_count": 11,
     "metadata": {},
     "output_type": "execute_result"
    }
   ],
   "source": [
    "#Resa,ple the data to a monthly frequency and sum the total sales\n",
    "df_monthly = df.resample('M').sum()\n",
    "df_monthly.head()"
   ]
  },
  {
   "cell_type": "code",
   "execution_count": 12,
   "metadata": {},
   "outputs": [
    {
     "data": {
      "text/html": [
       "<div>\n",
       "<style scoped>\n",
       "    .dataframe tbody tr th:only-of-type {\n",
       "        vertical-align: middle;\n",
       "    }\n",
       "\n",
       "    .dataframe tbody tr th {\n",
       "        vertical-align: top;\n",
       "    }\n",
       "\n",
       "    .dataframe thead th {\n",
       "        text-align: right;\n",
       "    }\n",
       "</style>\n",
       "<table border=\"1\" class=\"dataframe\">\n",
       "  <thead>\n",
       "    <tr style=\"text-align: right;\">\n",
       "      <th></th>\n",
       "      <th>total_sales</th>\n",
       "      <th>month</th>\n",
       "    </tr>\n",
       "    <tr>\n",
       "      <th>sale_date</th>\n",
       "      <th></th>\n",
       "      <th></th>\n",
       "    </tr>\n",
       "  </thead>\n",
       "  <tbody>\n",
       "    <tr>\n",
       "      <th>2023-01-31</th>\n",
       "      <td>58150</td>\n",
       "      <td>Jan</td>\n",
       "    </tr>\n",
       "    <tr>\n",
       "      <th>2023-02-28</th>\n",
       "      <td>54490</td>\n",
       "      <td>Feb</td>\n",
       "    </tr>\n",
       "    <tr>\n",
       "      <th>2023-03-31</th>\n",
       "      <td>75310</td>\n",
       "      <td>Mar</td>\n",
       "    </tr>\n",
       "    <tr>\n",
       "      <th>2023-04-30</th>\n",
       "      <td>50560</td>\n",
       "      <td>Apr</td>\n",
       "    </tr>\n",
       "    <tr>\n",
       "      <th>2023-05-31</th>\n",
       "      <td>59110</td>\n",
       "      <td>May</td>\n",
       "    </tr>\n",
       "  </tbody>\n",
       "</table>\n",
       "</div>"
      ],
      "text/plain": [
       "            total_sales month\n",
       "sale_date                    \n",
       "2023-01-31        58150   Jan\n",
       "2023-02-28        54490   Feb\n",
       "2023-03-31        75310   Mar\n",
       "2023-04-30        50560   Apr\n",
       "2023-05-31        59110   May"
      ]
     },
     "execution_count": 12,
     "metadata": {},
     "output_type": "execute_result"
    }
   ],
   "source": [
    "#map the month number to the month name\n",
    "df_monthly['month'] = df_monthly.index.strftime('%b')\n",
    "df_monthly.head()"
   ]
  },
  {
   "cell_type": "code",
   "execution_count": 19,
   "metadata": {},
   "outputs": [
    {
     "data": {
      "application/vnd.plotly.v1+json": {
       "config": {
        "plotlyServerURL": "https://plot.ly"
       },
       "data": [
        {
         "alignmentgroup": "True",
         "hovertemplate": "month=%{x}<br>total_sales=%{y}<extra></extra>",
         "legendgroup": "",
         "marker": {
          "color": "#1F77B4",
          "pattern": {
           "shape": ""
          }
         },
         "name": "",
         "offsetgroup": "",
         "orientation": "v",
         "showlegend": false,
         "textposition": "auto",
         "type": "bar",
         "x": [
          "Jan",
          "Feb",
          "Mar",
          "Apr",
          "May",
          "Jun",
          "Jul",
          "Aug",
          "Sep",
          "Oct",
          "Nov",
          "Dec"
         ],
         "xaxis": "x",
         "y": [
          58150,
          54490,
          75310,
          50560,
          59110,
          73210,
          72140,
          62850,
          51020,
          66800,
          66530,
          64700
         ],
         "yaxis": "y"
        }
       ],
       "layout": {
        "barmode": "relative",
        "legend": {
         "tracegroupgap": 0
        },
        "margin": {
         "l": 100
        },
        "plot_bgcolor": "rgba(0,0,0,0)",
        "template": {
         "data": {
          "pie": [
           {
            "automargin": true,
            "type": "pie"
           }
          ],
          "scatter": [
           {
            "line": {
             "width": 3
            },
            "marker": {
             "size": 9
            },
            "type": "scatter"
           }
          ],
          "scatter3d": [
           {
            "line": {
             "width": 3
            },
            "marker": {
             "size": 9
            },
            "type": "scatter3d"
           }
          ],
          "scattergeo": [
           {
            "line": {
             "width": 3
            },
            "marker": {
             "size": 9
            },
            "type": "scattergeo"
           }
          ],
          "scattergl": [
           {
            "line": {
             "width": 3
            },
            "marker": {
             "size": 9
            },
            "type": "scattergl"
           }
          ],
          "scatterpolar": [
           {
            "line": {
             "width": 3
            },
            "marker": {
             "size": 9
            },
            "type": "scatterpolar"
           }
          ],
          "scatterpolargl": [
           {
            "line": {
             "width": 3
            },
            "marker": {
             "size": 9
            },
            "type": "scatterpolargl"
           }
          ],
          "scatterternary": [
           {
            "line": {
             "width": 3
            },
            "marker": {
             "size": 9
            },
            "type": "scatterternary"
           }
          ],
          "table": [
           {
            "cells": {
             "height": 30
            },
            "header": {
             "height": 36
            },
            "type": "table"
           }
          ]
         },
         "layout": {
          "font": {
           "size": 18
          },
          "xaxis": {
           "title": {
            "standoff": 15
           }
          },
          "yaxis": {
           "title": {
            "standoff": 15
           }
          }
         }
        },
        "title": {
         "font": {
          "size": 24
         },
         "text": "Total Sales per Month"
        },
        "xaxis": {
         "anchor": "y",
         "domain": [
          0,
          1
         ],
         "tickfont": {
          "size": 14
         },
         "title": {
          "font": {
           "size": 18
          },
          "text": "Month"
         }
        },
        "yaxis": {
         "anchor": "x",
         "domain": [
          0,
          1
         ],
         "tickfont": {
          "size": 14
         },
         "tickformat": ",",
         "tickprefix": "$",
         "title": {
          "font": {
           "size": 18
          },
          "text": "Total Sales"
         }
        }
       }
      }
     },
     "metadata": {},
     "output_type": "display_data"
    }
   ],
   "source": [
    "#create a plotly figure \n",
    "fig = px.bar(df_monthly, x='month', y='total_sales', template=plotly_template, title='Total Sales per Month')\n",
    "\n",
    "# Define customizable font sizes\n",
    "title_font_size = 24\n",
    "axis_title_font_size = 18\n",
    "tick_font_size = 14\n",
    "\n",
    "fig.update_layout(\n",
    "    title=dict(\n",
    "        text='Total Sales per Month',\n",
    "        font=dict(\n",
    "            size=title_font_size  \n",
    "        )\n",
    "    ),\n",
    "    xaxis_title=dict(\n",
    "        text='Month',\n",
    "        font=dict(\n",
    "            size=axis_title_font_size  \n",
    "        )\n",
    "    ),\n",
    "    yaxis_title=dict(\n",
    "        text='Total Sales',\n",
    "        font=dict(\n",
    "            size=axis_title_font_size  \n",
    "        )\n",
    "    ),\n",
    "    margin=dict(l=100),  \n",
    "    yaxis=dict(\n",
    "        tickprefix='$',\n",
    "        tickformat=',',\n",
    "        tickfont=dict(\n",
    "            size=tick_font_size  \n",
    "        )\n",
    "    ),\n",
    "    xaxis=dict(\n",
    "        tickfont=dict(\n",
    "            size=tick_font_size  )\n",
    "    ),\n",
    "    plot_bgcolor='rgba(0,0,0,0)'  \n",
    ")\n",
    "\n",
    "# Show the figure\n",
    "fig.show()\n",
    "\n",
    "\n",
    "# Save the figure as an image\n",
    "fig.write_image(output_dir / \"total_sales_per_month.png\", width = 800, height = 400, scale = 2)"
   ]
  },
  {
   "cell_type": "markdown",
   "metadata": {},
   "source": [
    "## **Total Sales by Product**\n"
   ]
  },
  {
   "cell_type": "code",
   "execution_count": 14,
   "metadata": {},
   "outputs": [
    {
     "data": {
      "text/html": [
       "<div>\n",
       "<style scoped>\n",
       "    .dataframe tbody tr th:only-of-type {\n",
       "        vertical-align: middle;\n",
       "    }\n",
       "\n",
       "    .dataframe tbody tr th {\n",
       "        vertical-align: top;\n",
       "    }\n",
       "\n",
       "    .dataframe thead th {\n",
       "        text-align: right;\n",
       "    }\n",
       "</style>\n",
       "<table border=\"1\" class=\"dataframe\">\n",
       "  <thead>\n",
       "    <tr style=\"text-align: right;\">\n",
       "      <th></th>\n",
       "      <th>product_name</th>\n",
       "      <th>total_sales</th>\n",
       "    </tr>\n",
       "  </thead>\n",
       "  <tbody>\n",
       "    <tr>\n",
       "      <th>0</th>\n",
       "      <td>Nike Air Force 1</td>\n",
       "      <td>1028</td>\n",
       "    </tr>\n",
       "    <tr>\n",
       "      <th>1</th>\n",
       "      <td>Nike Air Max</td>\n",
       "      <td>1271</td>\n",
       "    </tr>\n",
       "    <tr>\n",
       "      <th>2</th>\n",
       "      <td>Nike Blazer Mid</td>\n",
       "      <td>1093</td>\n",
       "    </tr>\n",
       "    <tr>\n",
       "      <th>3</th>\n",
       "      <td>Nike React Infinity Run</td>\n",
       "      <td>1008</td>\n",
       "    </tr>\n",
       "    <tr>\n",
       "      <th>4</th>\n",
       "      <td>Nike ZoomX Vaporfly</td>\n",
       "      <td>957</td>\n",
       "    </tr>\n",
       "  </tbody>\n",
       "</table>\n",
       "</div>"
      ],
      "text/plain": [
       "              product_name  total_sales\n",
       "0         Nike Air Force 1         1028\n",
       "1             Nike Air Max         1271\n",
       "2          Nike Blazer Mid         1093\n",
       "3  Nike React Infinity Run         1008\n",
       "4      Nike ZoomX Vaporfly          957"
      ]
     },
     "execution_count": 14,
     "metadata": {},
     "output_type": "execute_result"
    }
   ],
   "source": [
    "# execute the query and load the results into a pandas dataframe\n",
    "\n",
    "query = '''\n",
    "SELECT p.product_name, SUM(s.quantity) as total_sales\n",
    "FROM sales s\n",
    "JOIN products p ON s.product_id = p.product_id \n",
    "GROUP BY p.product_name\n",
    "'''\n",
    "df = pd.read_sql_query(query, conn)\n",
    "df.head()"
   ]
  },
  {
   "cell_type": "code",
   "execution_count": 20,
   "metadata": {},
   "outputs": [
    {
     "data": {
      "application/vnd.plotly.v1+json": {
       "config": {
        "plotlyServerURL": "https://plot.ly"
       },
       "data": [
        {
         "alignmentgroup": "True",
         "hovertemplate": "product_name=%{x}<br>total_sales=%{text}<extra></extra>",
         "legendgroup": "",
         "marker": {
          "color": "#1F77B4",
          "pattern": {
           "shape": ""
          }
         },
         "name": "",
         "offsetgroup": "",
         "orientation": "v",
         "showlegend": false,
         "text": [
          1028,
          1271,
          1093,
          1008,
          957
         ],
         "textposition": "auto",
         "type": "bar",
         "x": [
          "Nike Air Force 1",
          "Nike Air Max",
          "Nike Blazer Mid",
          "Nike React Infinity Run",
          "Nike ZoomX Vaporfly"
         ],
         "xaxis": "x",
         "y": [
          1028,
          1271,
          1093,
          1008,
          957
         ],
         "yaxis": "y"
        }
       ],
       "layout": {
        "barmode": "relative",
        "legend": {
         "tracegroupgap": 0
        },
        "margin": {
         "l": 100,
         "t": 60
        },
        "template": {
         "data": {
          "pie": [
           {
            "automargin": true,
            "type": "pie"
           }
          ],
          "scatter": [
           {
            "line": {
             "width": 3
            },
            "marker": {
             "size": 9
            },
            "type": "scatter"
           }
          ],
          "scatter3d": [
           {
            "line": {
             "width": 3
            },
            "marker": {
             "size": 9
            },
            "type": "scatter3d"
           }
          ],
          "scattergeo": [
           {
            "line": {
             "width": 3
            },
            "marker": {
             "size": 9
            },
            "type": "scattergeo"
           }
          ],
          "scattergl": [
           {
            "line": {
             "width": 3
            },
            "marker": {
             "size": 9
            },
            "type": "scattergl"
           }
          ],
          "scatterpolar": [
           {
            "line": {
             "width": 3
            },
            "marker": {
             "size": 9
            },
            "type": "scatterpolar"
           }
          ],
          "scatterpolargl": [
           {
            "line": {
             "width": 3
            },
            "marker": {
             "size": 9
            },
            "type": "scatterpolargl"
           }
          ],
          "scatterternary": [
           {
            "line": {
             "width": 3
            },
            "marker": {
             "size": 9
            },
            "type": "scatterternary"
           }
          ],
          "table": [
           {
            "cells": {
             "height": 30
            },
            "header": {
             "height": 36
            },
            "type": "table"
           }
          ]
         },
         "layout": {
          "font": {
           "size": 18
          },
          "xaxis": {
           "title": {
            "standoff": 15
           }
          },
          "yaxis": {
           "title": {
            "standoff": 15
           }
          }
         }
        },
        "title": {
         "font": {
          "size": 24
         },
         "text": "Total Sales by Product"
        },
        "xaxis": {
         "anchor": "y",
         "domain": [
          0,
          1
         ],
         "tickfont": {
          "size": 14
         },
         "title": {
          "font": {
           "size": 18
          },
          "text": "Product"
         }
        },
        "yaxis": {
         "anchor": "x",
         "domain": [
          0,
          1
         ],
         "tickfont": {
          "size": 14
         },
         "tickprefix": "$",
         "title": {
          "font": {
           "size": 18
          },
          "text": "Total Sales ($)"
         }
        }
       }
      }
     },
     "metadata": {},
     "output_type": "display_data"
    }
   ],
   "source": [
    "\n",
    "# Create the Plotly figure with text parameter\n",
    "fig = px.bar(df, x='product_name', y='total_sales',template=plotly_template,text='total_sales')\n",
    "\n",
    "# Define customizable font sizes\n",
    "title_font_size = 24\n",
    "axis_title_font_size = 18\n",
    "tick_font_size = 14\n",
    "\n",
    "# Set the layout with customizable font sizes\n",
    "fig.update_layout(\n",
    "    title=dict(\n",
    "        text='Total Sales by Product',\n",
    "        font=dict(\n",
    "            size=title_font_size  \n",
    "        )\n",
    "    ),\n",
    "    xaxis_title=dict(\n",
    "        text='Product',\n",
    "        font=dict(\n",
    "            size=axis_title_font_size  \n",
    "        )\n",
    "    ),\n",
    "    yaxis_title=dict(\n",
    "        text='Total Sales ($)',\n",
    "        font=dict(\n",
    "            size=axis_title_font_size  \n",
    "        )\n",
    "    ),\n",
    "    xaxis=dict(\n",
    "        tickfont=dict(\n",
    "            size=tick_font_size  \n",
    "        )\n",
    "    ),\n",
    "    yaxis=dict(\n",
    "        tickfont=dict(\n",
    "            size=tick_font_size  \n",
    "        ),\n",
    "        tickprefix='$'\n",
    "    ),\n",
    "    margin=dict(l=100)  \n",
    ")\n",
    "\n",
    "# Show the figure\n",
    "fig.show()\n",
    "\n",
    "\n",
    "# Save the chart as a PNG image\n",
    "fig.write_image(output_dir / 'product_sales.png', width=1200,height=400, scale=2)"
   ]
  },
  {
   "cell_type": "markdown",
   "metadata": {},
   "source": [
    "## **Top Customer by Sales**"
   ]
  },
  {
   "cell_type": "code",
   "execution_count": 23,
   "metadata": {},
   "outputs": [
    {
     "data": {
      "text/html": [
       "<div>\n",
       "<style scoped>\n",
       "    .dataframe tbody tr th:only-of-type {\n",
       "        vertical-align: middle;\n",
       "    }\n",
       "\n",
       "    .dataframe tbody tr th {\n",
       "        vertical-align: top;\n",
       "    }\n",
       "\n",
       "    .dataframe thead th {\n",
       "        text-align: right;\n",
       "    }\n",
       "</style>\n",
       "<table border=\"1\" class=\"dataframe\">\n",
       "  <thead>\n",
       "    <tr style=\"text-align: right;\">\n",
       "      <th></th>\n",
       "      <th>customer_name</th>\n",
       "      <th>total_sales</th>\n",
       "    </tr>\n",
       "  </thead>\n",
       "  <tbody>\n",
       "    <tr>\n",
       "      <th>0</th>\n",
       "      <td>Emma Williams</td>\n",
       "      <td>98710</td>\n",
       "    </tr>\n",
       "    <tr>\n",
       "      <th>1</th>\n",
       "      <td>Lucas Moore</td>\n",
       "      <td>87590</td>\n",
       "    </tr>\n",
       "    <tr>\n",
       "      <th>2</th>\n",
       "      <td>Noah Brown</td>\n",
       "      <td>84300</td>\n",
       "    </tr>\n",
       "    <tr>\n",
       "      <th>3</th>\n",
       "      <td>Mia Jackson</td>\n",
       "      <td>78720</td>\n",
       "    </tr>\n",
       "    <tr>\n",
       "      <th>4</th>\n",
       "      <td>Mason Lopez</td>\n",
       "      <td>74250</td>\n",
       "    </tr>\n",
       "  </tbody>\n",
       "</table>\n",
       "</div>"
      ],
      "text/plain": [
       "   customer_name  total_sales\n",
       "0  Emma Williams        98710\n",
       "1    Lucas Moore        87590\n",
       "2     Noah Brown        84300\n",
       "3    Mia Jackson        78720\n",
       "4    Mason Lopez        74250"
      ]
     },
     "execution_count": 23,
     "metadata": {},
     "output_type": "execute_result"
    }
   ],
   "source": [
    "#execute the query and load the results into a pandas dataframe\n",
    "query = '''\n",
    "SELECT c.first_name || ' ' || c.last_name as customer_name, SUM(s.total_price) as total_sales\n",
    "FROM sales s\n",
    "JOIN customers c ON s.customer_id = c.customer_id\n",
    "GROUP BY customer_name\n",
    "ORDER BY total_sales DESC\n",
    "LIMIT 10\n",
    "'''\n",
    "df = pd.read_sql_query(query, conn)\n",
    "df.head()"
   ]
  },
  {
   "cell_type": "code",
   "execution_count": 24,
   "metadata": {},
   "outputs": [
    {
     "data": {
      "application/vnd.plotly.v1+json": {
       "config": {
        "plotlyServerURL": "https://plot.ly"
       },
       "data": [
        {
         "alignmentgroup": "True",
         "hovertemplate": "customer_name=%{x}<br>total_sales=%{text}<extra></extra>",
         "legendgroup": "",
         "marker": {
          "color": "#1F77B4",
          "pattern": {
           "shape": ""
          }
         },
         "name": "",
         "offsetgroup": "",
         "orientation": "v",
         "showlegend": false,
         "text": [
          98710,
          87590,
          84300,
          78720,
          74250,
          73150,
          72840,
          67340,
          62230,
          55740
         ],
         "textposition": "auto",
         "type": "bar",
         "x": [
          "Emma Williams",
          "Lucas Moore",
          "Noah Brown",
          "Mia Jackson",
          "Mason Lopez",
          "Sophia Hernandez",
          "Ethan Martinez",
          "Liam Johnson",
          "Ava Anderson",
          "Olivia Taylor"
         ],
         "xaxis": "x",
         "y": [
          98710,
          87590,
          84300,
          78720,
          74250,
          73150,
          72840,
          67340,
          62230,
          55740
         ],
         "yaxis": "y"
        }
       ],
       "layout": {
        "barmode": "relative",
        "legend": {
         "tracegroupgap": 0
        },
        "margin": {
         "l": 100,
         "t": 60
        },
        "template": {
         "data": {
          "pie": [
           {
            "automargin": true,
            "type": "pie"
           }
          ],
          "scatter": [
           {
            "line": {
             "width": 3
            },
            "marker": {
             "size": 9
            },
            "type": "scatter"
           }
          ],
          "scatter3d": [
           {
            "line": {
             "width": 3
            },
            "marker": {
             "size": 9
            },
            "type": "scatter3d"
           }
          ],
          "scattergeo": [
           {
            "line": {
             "width": 3
            },
            "marker": {
             "size": 9
            },
            "type": "scattergeo"
           }
          ],
          "scattergl": [
           {
            "line": {
             "width": 3
            },
            "marker": {
             "size": 9
            },
            "type": "scattergl"
           }
          ],
          "scatterpolar": [
           {
            "line": {
             "width": 3
            },
            "marker": {
             "size": 9
            },
            "type": "scatterpolar"
           }
          ],
          "scatterpolargl": [
           {
            "line": {
             "width": 3
            },
            "marker": {
             "size": 9
            },
            "type": "scatterpolargl"
           }
          ],
          "scatterternary": [
           {
            "line": {
             "width": 3
            },
            "marker": {
             "size": 9
            },
            "type": "scatterternary"
           }
          ],
          "table": [
           {
            "cells": {
             "height": 30
            },
            "header": {
             "height": 36
            },
            "type": "table"
           }
          ]
         },
         "layout": {
          "font": {
           "size": 18
          },
          "xaxis": {
           "title": {
            "standoff": 15
           }
          },
          "yaxis": {
           "title": {
            "standoff": 15
           }
          }
         }
        },
        "title": {
         "font": {
          "size": 24
         },
         "text": "Top Customers by Sales"
        },
        "xaxis": {
         "anchor": "y",
         "domain": [
          0,
          1
         ],
         "tickfont": {
          "size": 14
         },
         "title": {
          "font": {
           "size": 18
          },
          "text": "Customer"
         }
        },
        "yaxis": {
         "anchor": "x",
         "domain": [
          0,
          1
         ],
         "tickfont": {
          "size": 14
         },
         "tickprefix": "$",
         "title": {
          "font": {
           "size": 18
          },
          "text": "Total Sales ($)"
         }
        }
       }
      }
     },
     "metadata": {},
     "output_type": "display_data"
    }
   ],
   "source": [
    "# Create the Plotly figure\n",
    "fig = px.bar(df, x='customer_name',y='total_sales',template=plotly_template,text='total_sales')\n",
    "\n",
    "title_font_size = 24\n",
    "axis_title_font_size = 18\n",
    "tick_font_size = 14\n",
    "\n",
    "fig.update_layout(\n",
    "    title=dict(\n",
    "        text='Top Customers by Sales',\n",
    "        font=dict(\n",
    "            size=title_font_size  \n",
    "        )\n",
    "    ),\n",
    "    xaxis_title=dict(\n",
    "        text='Customer',\n",
    "        font=dict(\n",
    "            size=axis_title_font_size  \n",
    "        )\n",
    "    ),\n",
    "    yaxis_title=dict(\n",
    "        text='Total Sales ($)',\n",
    "        font=dict(\n",
    "            size=axis_title_font_size  \n",
    "        )\n",
    "    ),\n",
    "    xaxis=dict(\n",
    "        tickfont=dict(\n",
    "            size=tick_font_size  \n",
    "        )\n",
    "    ),\n",
    "    yaxis=dict(\n",
    "        tickfont=dict(\n",
    "            size=tick_font_size \n",
    "        ),\n",
    "        tickprefix='$'\n",
    "    ),\n",
    "    margin=dict(l=100)  \n",
    ")\n",
    "\n",
    "\n",
    "# Show the plot\n",
    "fig.show()\n",
    "# Save the chart as a PNG image\n",
    "fig.write_image(output_dir / 'customer_sales.png',width=1200, height=400,scale=2)"
   ]
  },
  {
   "cell_type": "markdown",
   "metadata": {},
   "source": [
    "## **Create PDF Report**\n"
   ]
  },
  {
   "cell_type": "code",
   "execution_count": 25,
   "metadata": {},
   "outputs": [
    {
     "data": {
      "text/plain": [
       "''"
      ]
     },
     "execution_count": 25,
     "metadata": {},
     "output_type": "execute_result"
    }
   ],
   "source": [
    "#define the font color\n",
    "font_color = (64,64,64)\n",
    "\n",
    "#find png files in the output directory\n",
    "images = [file for file in output_dir.iterdir() if file.suffix == '.png']\n",
    "\n",
    "#create a PDF object\n",
    "pdf = FPDF()\n",
    "pdf.add_page()\n",
    "pdf.set_font('Arial', 'B', 16)\n",
    "\n",
    "#add a title to the PDF\n",
    "title = f\"Sales Report as of {date.today().strftime('%m/%d/%Y')}\"\n",
    "pdf.set_text_color(*font_color)\n",
    "pdf.cell(200, 10, title, ln=True, align='C')\n",
    "\n",
    "#add each chart to the PDF\n",
    "for image in images:\n",
    "    pdf.image(str(image), x=10, w=190)\n",
    "    pdf.ln(100)\n",
    "\n",
    "#save the PDF\n",
    "pdf.output(output_dir / 'sales_report.pdf')"
   ]
  },
  {
   "cell_type": "markdown",
   "metadata": {},
   "source": [
    "## **Customer Segment**"
   ]
  },
  {
   "cell_type": "code",
   "execution_count": 26,
   "metadata": {},
   "outputs": [
    {
     "data": {
      "text/html": [
       "<div>\n",
       "<style scoped>\n",
       "    .dataframe tbody tr th:only-of-type {\n",
       "        vertical-align: middle;\n",
       "    }\n",
       "\n",
       "    .dataframe tbody tr th {\n",
       "        vertical-align: top;\n",
       "    }\n",
       "\n",
       "    .dataframe thead th {\n",
       "        text-align: right;\n",
       "    }\n",
       "</style>\n",
       "<table border=\"1\" class=\"dataframe\">\n",
       "  <thead>\n",
       "    <tr style=\"text-align: right;\">\n",
       "      <th></th>\n",
       "      <th>customer_id</th>\n",
       "      <th>customer_name</th>\n",
       "      <th>total_sales</th>\n",
       "      <th>customer_segment</th>\n",
       "    </tr>\n",
       "  </thead>\n",
       "  <tbody>\n",
       "    <tr>\n",
       "      <th>0</th>\n",
       "      <td>2</td>\n",
       "      <td>Emma Williams</td>\n",
       "      <td>98710</td>\n",
       "      <td>High Value</td>\n",
       "    </tr>\n",
       "    <tr>\n",
       "      <th>1</th>\n",
       "      <td>8</td>\n",
       "      <td>Lucas Moore</td>\n",
       "      <td>87590</td>\n",
       "      <td>High Value</td>\n",
       "    </tr>\n",
       "    <tr>\n",
       "      <th>2</th>\n",
       "      <td>3</td>\n",
       "      <td>Noah Brown</td>\n",
       "      <td>84300</td>\n",
       "      <td>High Value</td>\n",
       "    </tr>\n",
       "    <tr>\n",
       "      <th>3</th>\n",
       "      <td>9</td>\n",
       "      <td>Mia Jackson</td>\n",
       "      <td>78720</td>\n",
       "      <td>High Value</td>\n",
       "    </tr>\n",
       "    <tr>\n",
       "      <th>4</th>\n",
       "      <td>10</td>\n",
       "      <td>Mason Lopez</td>\n",
       "      <td>74250</td>\n",
       "      <td>High Value</td>\n",
       "    </tr>\n",
       "  </tbody>\n",
       "</table>\n",
       "</div>"
      ],
      "text/plain": [
       "   customer_id  customer_name  total_sales customer_segment\n",
       "0            2  Emma Williams        98710       High Value\n",
       "1            8    Lucas Moore        87590       High Value\n",
       "2            3     Noah Brown        84300       High Value\n",
       "3            9    Mia Jackson        78720       High Value\n",
       "4           10    Mason Lopez        74250       High Value"
      ]
     },
     "execution_count": 26,
     "metadata": {},
     "output_type": "execute_result"
    }
   ],
   "source": [
    "## **executing the query and loading the results into a pandas dataframe**\n",
    "query = '''\n",
    "SELECT \n",
    "  customers.customer_id, \n",
    "  customers.first_name || ' ' || customers.last_name as customer_name, \n",
    "  SUM(sales.total_price) as total_sales,\n",
    "  CASE \n",
    "    WHEN SUM(sales.total_price) > 30000 THEN 'High Value'\n",
    "    WHEN SUM(sales.total_price) > 26000 THEN 'Medium Value'\n",
    "    ELSE 'Low Value'\n",
    "  END as customer_segment\n",
    "FROM sales\n",
    "INNER JOIN customers ON sales.customer_id = customers.customer_id\n",
    "GROUP BY customers.customer_id\n",
    "ORDER BY total_sales DESC\n",
    "'''\n",
    "\n",
    "df = pd.read_sql_query(query, conn)\n",
    "df.head()"
   ]
  },
  {
   "cell_type": "code",
   "execution_count": 27,
   "metadata": {},
   "outputs": [
    {
     "data": {
      "text/html": [
       "<div>\n",
       "<style scoped>\n",
       "    .dataframe tbody tr th:only-of-type {\n",
       "        vertical-align: middle;\n",
       "    }\n",
       "\n",
       "    .dataframe tbody tr th {\n",
       "        vertical-align: top;\n",
       "    }\n",
       "\n",
       "    .dataframe thead th {\n",
       "        text-align: right;\n",
       "    }\n",
       "</style>\n",
       "<table border=\"1\" class=\"dataframe\">\n",
       "  <thead>\n",
       "    <tr style=\"text-align: right;\">\n",
       "      <th></th>\n",
       "      <th>customer_id</th>\n",
       "      <th>customer_name</th>\n",
       "      <th>total_sales</th>\n",
       "    </tr>\n",
       "  </thead>\n",
       "  <tbody>\n",
       "    <tr>\n",
       "      <th>0</th>\n",
       "      <td>1</td>\n",
       "      <td>Liam Johnson</td>\n",
       "      <td>67340</td>\n",
       "    </tr>\n",
       "    <tr>\n",
       "      <th>1</th>\n",
       "      <td>2</td>\n",
       "      <td>Emma Williams</td>\n",
       "      <td>98710</td>\n",
       "    </tr>\n",
       "    <tr>\n",
       "      <th>2</th>\n",
       "      <td>3</td>\n",
       "      <td>Noah Brown</td>\n",
       "      <td>84300</td>\n",
       "    </tr>\n",
       "    <tr>\n",
       "      <th>3</th>\n",
       "      <td>4</td>\n",
       "      <td>Olivia Taylor</td>\n",
       "      <td>55740</td>\n",
       "    </tr>\n",
       "    <tr>\n",
       "      <th>4</th>\n",
       "      <td>5</td>\n",
       "      <td>Ava Anderson</td>\n",
       "      <td>62230</td>\n",
       "    </tr>\n",
       "  </tbody>\n",
       "</table>\n",
       "</div>"
      ],
      "text/plain": [
       "   customer_id  customer_name  total_sales\n",
       "0            1   Liam Johnson        67340\n",
       "1            2  Emma Williams        98710\n",
       "2            3     Noah Brown        84300\n",
       "3            4  Olivia Taylor        55740\n",
       "4            5   Ava Anderson        62230"
      ]
     },
     "execution_count": 27,
     "metadata": {},
     "output_type": "execute_result"
    }
   ],
   "source": [
    "\n",
    "# Execute the query and load results into a Pandas DataFrame\n",
    "query = '''\n",
    "SELECT \n",
    "  customers.customer_id, \n",
    "  customers.first_name || ' ' || customers.last_name as customer_name, \n",
    "  SUM(sales.total_price) as total_sales\n",
    "FROM sales\n",
    "INNER JOIN customers ON sales.customer_id = customers.customer_id\n",
    "GROUP BY customers.customer_id\n",
    "'''\n",
    "\n",
    "df = pd.read_sql_query(query, conn)\n",
    "df.head()"
   ]
  },
  {
   "cell_type": "code",
   "execution_count": 28,
   "metadata": {},
   "outputs": [
    {
     "data": {
      "text/html": [
       "<div>\n",
       "<style scoped>\n",
       "    .dataframe tbody tr th:only-of-type {\n",
       "        vertical-align: middle;\n",
       "    }\n",
       "\n",
       "    .dataframe tbody tr th {\n",
       "        vertical-align: top;\n",
       "    }\n",
       "\n",
       "    .dataframe thead th {\n",
       "        text-align: right;\n",
       "    }\n",
       "</style>\n",
       "<table border=\"1\" class=\"dataframe\">\n",
       "  <thead>\n",
       "    <tr style=\"text-align: right;\">\n",
       "      <th></th>\n",
       "      <th>customer_id</th>\n",
       "      <th>customer_name</th>\n",
       "      <th>total_sales</th>\n",
       "      <th>customer_segment</th>\n",
       "    </tr>\n",
       "  </thead>\n",
       "  <tbody>\n",
       "    <tr>\n",
       "      <th>1</th>\n",
       "      <td>2</td>\n",
       "      <td>Emma Williams</td>\n",
       "      <td>98710</td>\n",
       "      <td>High Value</td>\n",
       "    </tr>\n",
       "    <tr>\n",
       "      <th>7</th>\n",
       "      <td>8</td>\n",
       "      <td>Lucas Moore</td>\n",
       "      <td>87590</td>\n",
       "      <td>High Value</td>\n",
       "    </tr>\n",
       "    <tr>\n",
       "      <th>2</th>\n",
       "      <td>3</td>\n",
       "      <td>Noah Brown</td>\n",
       "      <td>84300</td>\n",
       "      <td>High Value</td>\n",
       "    </tr>\n",
       "    <tr>\n",
       "      <th>8</th>\n",
       "      <td>9</td>\n",
       "      <td>Mia Jackson</td>\n",
       "      <td>78720</td>\n",
       "      <td>High Value</td>\n",
       "    </tr>\n",
       "    <tr>\n",
       "      <th>9</th>\n",
       "      <td>10</td>\n",
       "      <td>Mason Lopez</td>\n",
       "      <td>74250</td>\n",
       "      <td>High Value</td>\n",
       "    </tr>\n",
       "  </tbody>\n",
       "</table>\n",
       "</div>"
      ],
      "text/plain": [
       "   customer_id  customer_name  total_sales customer_segment\n",
       "1            2  Emma Williams        98710       High Value\n",
       "7            8    Lucas Moore        87590       High Value\n",
       "2            3     Noah Brown        84300       High Value\n",
       "8            9    Mia Jackson        78720       High Value\n",
       "9           10    Mason Lopez        74250       High Value"
      ]
     },
     "execution_count": 28,
     "metadata": {},
     "output_type": "execute_result"
    }
   ],
   "source": [
    "\n",
    "# Group the data by customer segment\n",
    "bins = [0, 26000, 30000, float('inf')]\n",
    "labels = ['Low Value', 'Medium Value', 'High Value']\n",
    "df['customer_segment'] = pd.cut(df['total_sales'], bins=bins, labels=labels)\n",
    "\n",
    "# Order the data by total sales\n",
    "df = df.sort_values(by='total_sales', ascending=False)\n",
    "df.head()"
   ]
  },
  {
   "cell_type": "code",
   "execution_count": 29,
   "metadata": {},
   "outputs": [],
   "source": [
    "\n",
    "# Close the connection\n",
    "conn.close()"
   ]
  }
 ],
 "metadata": {
  "kernelspec": {
   "display_name": "Python 3",
   "language": "python",
   "name": "python3"
  },
  "language_info": {
   "codemirror_mode": {
    "name": "ipython",
    "version": 3
   },
   "file_extension": ".py",
   "mimetype": "text/x-python",
   "name": "python",
   "nbconvert_exporter": "python",
   "pygments_lexer": "ipython3",
   "version": "3.11.9"
  }
 },
 "nbformat": 4,
 "nbformat_minor": 2
}
